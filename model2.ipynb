{
 "cells": [
  {
   "cell_type": "markdown",
   "metadata": {},
   "source": [
    "# Machine Learning Model for Stress Classification"
   ]
  },
  {
   "cell_type": "code",
   "execution_count": 1,
   "metadata": {},
   "outputs": [],
   "source": [
    "import pandas as pd\n",
    "import numpy as np\n",
    "from sklearn.model_selection import train_test_split\n",
    "from sklearn.ensemble import RandomForestClassifier\n",
    "from sklearn.metrics import classification_report, accuracy_score"
   ]
  },
  {
   "cell_type": "markdown",
   "metadata": {},
   "source": [
    "## Preprocessing and Feature Extraction"
   ]
  },
  {
   "cell_type": "code",
   "execution_count": 2,
   "metadata": {},
   "outputs": [],
   "source": [
    "def preprocess_and_extract_features(file_path, window_size=250, overlap=0.5):\n",
    "    \"\"\"\n",
    "    Preprocess the time series data and extract features for classification.\n",
    "    Features are extracted per fixed-length window with overlap.\n",
    "    \"\"\"\n",
    "    # Load the data\n",
    "    data = pd.read_csv(file_path)\n",
    "    \n",
    "    # Sanity check to make sure data is there\n",
    "    if not {'ppg_raw', 'gsr_raw'}.issubset(data.columns):\n",
    "        raise ValueError(\"Data must contain 'ppg_raw' and 'gsr_raw' columns.\")\n",
    "    \n",
    "    # Initialize feature list\n",
    "    features_list = []\n",
    "    step_size = int(window_size * (1 - overlap))\n",
    "    \n",
    "    # Sliding window approach\n",
    "    for start in range(0, len(data) - window_size + 1, step_size):\n",
    "        window = data.iloc[start:start + window_size]\n",
    "        \n",
    "        # Time-domain features\n",
    "        ppg_mean = window['ppg_raw'].mean()\n",
    "        ppg_std = window['ppg_raw'].std()\n",
    "        ppg_max = window['ppg_raw'].max()\n",
    "        ppg_min = window['ppg_raw'].min()\n",
    "        ppg_range = ppg_max - ppg_min\n",
    "        ppg_rms = np.sqrt(np.mean(window['ppg_raw'] ** 2))\n",
    "        ppg_peaks = len((window['ppg_raw'].diff() > 0).astype(int).diff().eq(-1).index)\n",
    "        \n",
    "        gsr_mean = window['gsr_raw'].mean()\n",
    "        gsr_std = window['gsr_raw'].std()\n",
    "        gsr_max = window['gsr_raw'].max()\n",
    "        gsr_min = window['gsr_raw'].min()\n",
    "        gsr_range = gsr_max - gsr_min\n",
    "        gsr_rms = np.sqrt(np.mean(window['gsr_raw'] ** 2))\n",
    "        gsr_peaks = len((window['gsr_raw'].diff() > 0).astype(int).diff().eq(-1).index)\n",
    "        \n",
    "        # GSR-specific features\n",
    "        gsr_amplitude = gsr_max - gsr_mean\n",
    "        gsr_response_count = len(window['gsr_raw'][window['gsr_raw'].diff() > 0])\n",
    "        \n",
    "        # Combine features into a dictionary\n",
    "        features = {\n",
    "            'ppg_mean': ppg_mean,\n",
    "            'ppg_std': ppg_std,\n",
    "            'ppg_max': ppg_max,\n",
    "            'ppg_min': ppg_min,\n",
    "            'ppg_range': ppg_range,\n",
    "            'ppg_rms': ppg_rms,\n",
    "            'ppg_peaks': ppg_peaks,\n",
    "            'gsr_mean': gsr_mean,\n",
    "            'gsr_std': gsr_std,\n",
    "            'gsr_max': gsr_max,\n",
    "            'gsr_min': gsr_min,\n",
    "            'gsr_range': gsr_range,\n",
    "            'gsr_rms': gsr_rms,\n",
    "            'gsr_peaks': gsr_peaks,\n",
    "            'gsr_amplitude': gsr_amplitude,\n",
    "            'gsr_response_count': gsr_response_count\n",
    "        }\n",
    "        \n",
    "        features_list.append(features)\n",
    "    \n",
    "    return pd.DataFrame(features_list)"
   ]
  },
  {
   "cell_type": "markdown",
   "metadata": {},
   "source": [
    "## Load and Preprocess Data"
   ]
  },
  {
   "cell_type": "code",
   "execution_count": 3,
   "metadata": {},
   "outputs": [
    {
     "name": "stdout",
     "output_type": "stream",
     "text": [
      "/Users/evani/Downloads/research - HCI/responsive_mouse\n"
     ]
    }
   ],
   "source": [
    "#testing filepath\n",
    "import os\n",
    "print(os.getcwd())"
   ]
  },
  {
   "cell_type": "code",
   "execution_count": null,
   "metadata": {},
   "outputs": [],
   "source": [
    "# File paths for the datasets (these are specfic to my computer)\n",
    "# Add here as more files get added\n",
    "file_paths = [\n",
    "    \"./arduino_data/data/4_resting_trial1.csv\",\n",
    "    \"./arduino_data/data/4_resting_trial2.csv\",\n",
    "    \"./arduino_data/data/4_stressed_trial1.csv\",\n",
    "    \"./arduino_data/data/4_stressed_trial2.csv\"\n",
    "]\n",
    "\n",
    "# Combine features and labels\n",
    "features = []\n",
    "labels = []\n",
    "for file_path in file_paths:\n",
    "    label = \"stressed\" if \"stressed\" in file_path else \"not_stressed\"\n",
    "    # Make window size smaller for more features\n",
    "    data_features = preprocess_and_extract_features(file_path)\n",
    "    features.append(data_features)\n",
    "    labels.extend([label] * len(data_features))\n",
    "\n",
    "X = pd.concat(features, ignore_index=True)\n",
    "y = pd.Series(labels)"
   ]
  },
  {
   "cell_type": "code",
   "execution_count": 5,
   "metadata": {},
   "outputs": [
    {
     "name": "stdout",
     "output_type": "stream",
     "text": [
      "X DataFrame Headers: ['ppg_mean', 'ppg_std', 'ppg_max', 'ppg_min', 'ppg_range', 'ppg_rms', 'ppg_peaks', 'gsr_mean', 'gsr_std', 'gsr_max', 'gsr_min', 'gsr_range', 'gsr_rms', 'gsr_peaks', 'gsr_amplitude', 'gsr_response_count']\n",
      "\n",
      "First 5 Rows of X:\n",
      "   ppg_mean     ppg_std  ppg_max  ppg_min  ppg_range      ppg_rms  ppg_peaks  \\\n",
      "0  1273.220  784.757044     4095        0       4095  1494.814173        250   \n",
      "1  1258.516  781.028954     4095        0       4095  1480.347501        250   \n",
      "2  1292.420   19.080984     1333     1241         92  1292.560283        250   \n",
      "3  1300.088   16.985000     1352     1248        104  1300.198502        250   \n",
      "4  1302.864   15.157192     1352     1262         90  1302.951812        250   \n",
      "\n",
      "   gsr_mean    gsr_std  gsr_max  gsr_min  gsr_range      gsr_rms  gsr_peaks  \\\n",
      "0  1931.476  35.632121     2001     1851        150  1931.803331        250   \n",
      "1  1921.768  11.571767     1945     1895         50  1921.802700        250   \n",
      "2  1932.176  10.414744     1955     1906         49  1932.203956        250   \n",
      "3  1939.992   8.642843     1957     1919         38  1940.011175        250   \n",
      "4  1945.888   8.390773     1973     1925         48  1945.906018        250   \n",
      "\n",
      "   gsr_amplitude  gsr_response_count  \n",
      "0         69.524                 125  \n",
      "1         23.232                 124  \n",
      "2         22.824                 125  \n",
      "3         17.008                 124  \n",
      "4         27.112                 125  \n",
      "\n",
      "First 5 Rows of y:\n",
      "0    not_stressed\n",
      "1    not_stressed\n",
      "2    not_stressed\n",
      "3    not_stressed\n",
      "4    not_stressed\n",
      "dtype: object\n",
      "Size of X: (94, 16)\n",
      "Size of y: (94,)\n"
     ]
    }
   ],
   "source": [
    "# Display headers and first 5 rows of X\n",
    "print(\"X DataFrame Headers:\", X.columns.tolist())\n",
    "print(\"\\nFirst 5 Rows of X:\")\n",
    "print(X.head())\n",
    "\n",
    "# Display first 5 rows of y\n",
    "print(\"\\nFirst 5 Rows of y:\")\n",
    "print(y.head())\n",
    "# Display the size of the DataFrames\n",
    "print(f'Size of X: {X.shape}')\n",
    "print(f'Size of y: {y.shape}')"
   ]
  },
  {
   "cell_type": "markdown",
   "metadata": {},
   "source": [
    "## Train-Test Split"
   ]
  },
  {
   "cell_type": "code",
   "execution_count": 6,
   "metadata": {},
   "outputs": [],
   "source": [
    "X_train, X_test, y_train, y_test = train_test_split(X, y, test_size=0.2, random_state=42)"
   ]
  },
  {
   "cell_type": "markdown",
   "metadata": {},
   "source": [
    "## Train the Model"
   ]
  },
  {
   "cell_type": "code",
   "execution_count": 7,
   "metadata": {},
   "outputs": [
    {
     "data": {
      "text/plain": [
       "RandomForestClassifier(random_state=42)"
      ]
     },
     "execution_count": 7,
     "metadata": {},
     "output_type": "execute_result"
    }
   ],
   "source": [
    "model = RandomForestClassifier(random_state=42)\n",
    "model.fit(X_train, y_train)"
   ]
  },
  {
   "cell_type": "markdown",
   "metadata": {},
   "source": [
    "## Evaluate the Model"
   ]
  },
  {
   "cell_type": "code",
   "execution_count": 8,
   "metadata": {},
   "outputs": [],
   "source": [
    "# y_pred = model.predict(X_test)\n",
    "# print(\"Accuracy:\", accuracy_score(y_test, y_pred))\n",
    "# print(\"Classification Report:\\n\", classification_report(y_test, y_pred))"
   ]
  },
  {
   "cell_type": "code",
   "execution_count": null,
   "metadata": {},
   "outputs": [
    {
     "name": "stdout",
     "output_type": "stream",
     "text": [
      "Cross-Validation Accuracy (mean): 0.86\n",
      "Cross-Validation Accuracy (std): 0.15\n",
      "Classification Report:               precision    recall  f1-score   support\n",
      "\n",
      "not_stressed       0.78      0.89      0.83        35\n",
      "    stressed       0.93      0.85      0.88        59\n",
      "\n",
      "    accuracy                           0.86        94\n",
      "   macro avg       0.85      0.87      0.86        94\n",
      "weighted avg       0.87      0.86      0.86        94\n",
      "\n"
     ]
    }
   ],
   "source": [
    "# Evaluate the model using k-fold cross-validation\n",
    "from sklearn.model_selection import cross_val_score, cross_val_predict\n",
    "from sklearn.metrics import classification_report, accuracy_score\n",
    "\n",
    "# Perform k-fold cross-validation\n",
    "k = 5  \n",
    "cv_accuracy = cross_val_score(model, X, y, cv=k, scoring='accuracy')\n",
    "y_pred = cross_val_predict(model, X, y, cv=k)\n",
    "\n",
    "print(f'Cross-Validation Accuracy (mean): {cv_accuracy.mean():.2f}')\n",
    "print(f'Cross-Validation Accuracy (std): {cv_accuracy.std():.2f}')\n",
    "print(\"Classification Report:\", classification_report(y, y_pred))"
   ]
  },
  {
   "cell_type": "markdown",
   "metadata": {},
   "source": [
    "## Save the Model (Optional)"
   ]
  },
  {
   "cell_type": "code",
   "execution_count": 10,
   "metadata": {},
   "outputs": [
    {
     "data": {
      "text/plain": [
       "['stress_classifier.pkl']"
      ]
     },
     "execution_count": 10,
     "metadata": {},
     "output_type": "execute_result"
    }
   ],
   "source": [
    "import joblib\n",
    "joblib.dump(model, \"stress_classifier.pkl\")\n",
    "\n",
    "# import os\n",
    "# import joblib\n",
    "\n",
    "# # Define the directory and file path\n",
    "# save_dir = \"models\"\n",
    "# save_path = os.path.join(save_dir, \"stress_classifier.pkl\")\n",
    "\n",
    "# # Create the directory if it doesn't exist\n",
    "# os.makedirs(save_dir, exist_ok=True)\n",
    "\n",
    "# # Save the trained model\n",
    "# joblib.dump(model, save_path)\n",
    "\n",
    "# print(f\"Model saved to {save_path}\")\n"
   ]
  },
  {
   "cell_type": "code",
   "execution_count": null,
   "metadata": {},
   "outputs": [],
   "source": [
    "# # Visualize the classification report results in a heatmap\n",
    "# import seaborn as sns\n",
    "# import matplotlib.pyplot as plt\n",
    "# from sklearn.metrics import classification_report\n",
    "# import pandas as pd\n",
    "\n",
    "# Classification report as a dictionary\n",
    "report = classification_report(y, y_pred, output_dict=True)\n",
    "report_df = pd.DataFrame(report).transpose()\n",
    "\n",
    "# # Plot the heatmap\n",
    "# plt.figure(figsize=(10, 6))\n",
    "# sns.heatmap(report_df.iloc[:-1, :-1], annot=True, cmap='Blues', fmt='.2f')\n",
    "# plt.title('Classification Report Heatmap')\n",
    "# plt.ylabel('Metrics')\n",
    "# plt.xlabel('Classes')\n",
    "# plt.show()"
   ]
  },
  {
   "cell_type": "code",
   "execution_count": null,
   "metadata": {},
   "outputs": [
    {
     "data": {
      "image/png": "[encoded data removed]",
      "text/plain": [
       "<Figure size 720x432 with 1 Axes>"
      ]
     },
     "metadata": {
      "needs_background": "light"
     },
     "output_type": "display_data"
    }
   ],
   "source": [
    "# Double bar graph for precision, recall, and F1-score\n",
    "import matplotlib.pyplot as plt\n",
    "import numpy as np\n",
    "\n",
    "# Save font sizes\n",
    "TITLE_FS  = 28\n",
    "LABELS_FS  = 24\n",
    "LEGEND_FS = 18\n",
    "TICK_FS   = 18\n",
    "\n",
    "# Metrics for two classes\n",
    "stressed_metrics = report_df.loc['stressed', ['precision', 'recall', 'f1-score']].values\n",
    "not_stressed_metrics = report_df.loc['not_stressed', ['precision', 'recall', 'f1-score']].values\n",
    "metrics = ['Precision', 'Recall', 'F1-Score']\n",
    "x = np.arange(len(metrics))\n",
    "\n",
    "# Plot bars\n",
    "width = 0.3 \n",
    "fig, ax = plt.subplots(figsize=(10, 6))\n",
    "bar1 = ax.bar(x - width/2, stressed_metrics, width, label='Stressed', color='cornflowerblue')\n",
    "bar2 = ax.bar(x + width/2, not_stressed_metrics, width, label='Not Stressed', color='mediumorchid')\n",
    "\n",
    "# Add labels, title, legend\n",
    "ax.set_xlabel('Metrics', fontsize=LABELS_FS)\n",
    "ax.set_ylabel('Percentage', fontsize=LABELS_FS, labelpad=15)\n",
    "ax.set_title('Stress Detection Model Performance', fontsize=TITLE_FS)\n",
    "ax.set_xticks(x)\n",
    "ax.set_xticklabels(metrics)\n",
    "\n",
    "# Resize the tick‐labels (the numbers / text on the axes)\n",
    "ax.tick_params(axis='x', labelsize=TICK_FS)  # X-axis numbers/text size\n",
    "ax.tick_params(axis='y', labelsize=TICK_FS)  # Y-axis numbers/text size\n",
    "\n",
    "# Add value annotations on bars\n",
    "# for bar in bar1 + bar2:\n",
    "#     height = bar.get_height()\n",
    "#     ax.annotate(f'{height:.2f}',\n",
    "#                 xy=(bar.get_x() + bar.get_width() / 2, height),\n",
    "#                 xytext=(0, 3),\n",
    "#                 textcoords='offset points',\n",
    "#                 ha='center', va='bottom')\n",
    "\n",
    "# Move legend to the right side, centered vertically\n",
    "ax.legend(loc='center left', bbox_to_anchor=(1, 0.5), fontsize=LEGEND_FS)\n",
    "\n",
    "# Make room on the right for the legend\n",
    "plt.subplots_adjust(right=0.8)\n",
    "\n",
    "plt.tight_layout()\n",
    "plt.show()"
   ]
  },
  {
   "cell_type": "code",
   "execution_count": null,
   "metadata": {},
   "outputs": [],
   "source": []
  }
 ],
 "metadata": {
  "kernelspec": {
   "display_name": "base",
   "language": "python",
   "name": "python3"
  },
  "language_info": {
   "codemirror_mode": {
    "name": "ipython",
    "version": 3
   },
   "file_extension": ".py",
   "mimetype": "text/x-python",
   "name": "python",
   "nbconvert_exporter": "python",
   "pygments_lexer": "ipython3",
   "version": "3.8.8"
  }
 },
 "nbformat": 4,
 "nbformat_minor": 5
}
